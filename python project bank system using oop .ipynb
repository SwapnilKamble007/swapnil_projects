{
 "cells": [
  {
   "cell_type": "code",
   "execution_count": 4,
   "id": "2802ca55",
   "metadata": {},
   "outputs": [],
   "source": [
    "#Banking Systeam Using oop\n",
    "\n",
    "#Parent Class : User\n",
    "#Holds details about an user\n",
    "#Has a function to show user details\n",
    "\n",
    "#Chaild Class : Bank\n",
    "#Stores details about the account balance\n",
    "#Stores details about the amount\n",
    "#Allows for depostits, withdraw, view_balance\n",
    "\n",
    "#Parrent Class\n",
    "class User():\n",
    "        def __init__(self,name,age,gender):\n",
    "            self.name = name\n",
    "            self.age = age\n",
    "            self.gender = gender\n",
    "\n",
    "        def show_details(self):\n",
    "            print(\"Personal Details\")\n",
    "            print(\"\")\n",
    "            print(\"Name \",self.name)\n",
    "            print(\"Age \", self.age)\n",
    "            print(\"gender \",self.gender)\n",
    "\n",
    "#Chaild Class\n",
    "class bank(User):\n",
    "        def __init__(self,name,age,gender):\n",
    "            super(). __init__(name, age,gender)\n",
    "            self.balance = 0\n",
    "           \n",
    "        def deposit(self,amount):\n",
    "            self.amount = amount\n",
    "            self.balance = self.balance + self.amount\n",
    "            print(\"Account balance has been update : rs.\",self.balance)\n",
    "\n",
    "        def withdraw(self,amount):\n",
    "            self.amount = amount\n",
    "            if(self.amount > self.balance):\n",
    "                print(\"Insufficient Fund | Balance Availablde : rs.\", self.balance)\n",
    "            else:\n",
    "                self.balance = self.balance - self.amount\n",
    "                print(\"Account balance has been update : rs.\", self.balance)\n",
    "\n",
    "        def viwe_balance(self):\n",
    "            self.show_details()\n",
    "            print(\"Account balance has been update : rs.\", self.balance)\n",
    "\n",
    "       \n"
   ]
  },
  {
   "cell_type": "code",
   "execution_count": 5,
   "id": "690a350c",
   "metadata": {},
   "outputs": [],
   "source": [
    "obj=bank(\"Swapnil\",29, \"Male\")"
   ]
  },
  {
   "cell_type": "code",
   "execution_count": 6,
   "id": "0b200e9d",
   "metadata": {},
   "outputs": [
    {
     "name": "stdout",
     "output_type": "stream",
     "text": [
      "Account balance has been update : rs. 1000\n"
     ]
    }
   ],
   "source": [
    "obj.deposit(1000)"
   ]
  },
  {
   "cell_type": "code",
   "execution_count": 7,
   "id": "ec1ec19a",
   "metadata": {},
   "outputs": [
    {
     "name": "stdout",
     "output_type": "stream",
     "text": [
      "Account balance has been update : rs. 800\n"
     ]
    }
   ],
   "source": [
    "obj.withdraw(200)"
   ]
  },
  {
   "cell_type": "code",
   "execution_count": 8,
   "id": "fe7504bf",
   "metadata": {},
   "outputs": [
    {
     "name": "stdout",
     "output_type": "stream",
     "text": [
      "Personal Details\n",
      "\n",
      "Name  Swapnil\n",
      "Age  29\n",
      "gender  Male\n",
      "Account balance has been update : rs. 800\n"
     ]
    }
   ],
   "source": [
    "obj.viwe_balance()"
   ]
  }
 ],
 "metadata": {
  "kernelspec": {
   "display_name": "Python 3 (ipykernel)",
   "language": "python",
   "name": "python3"
  },
  "language_info": {
   "codemirror_mode": {
    "name": "ipython",
    "version": 3
   },
   "file_extension": ".py",
   "mimetype": "text/x-python",
   "name": "python",
   "nbconvert_exporter": "python",
   "pygments_lexer": "ipython3",
   "version": "3.9.12"
  }
 },
 "nbformat": 4,
 "nbformat_minor": 5
}
